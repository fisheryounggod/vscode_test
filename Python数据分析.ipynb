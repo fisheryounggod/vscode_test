{
 "cells": [
  {
   "cell_type": "code",
   "execution_count": 1,
   "metadata": {},
   "outputs": [],
   "source": [
    "from pandas import Series,DataFrame\n",
    "import pandas as pd\n",
    "import numpy as np\n",
    "import json\n",
    "import statsmodels.api as sm\n",
    "from datetime import datetime, timedelta\n",
    "from pandas.tseries.offsets import Hour,Minute,Day,MonthEnd\n",
    "import pytz\n",
    "import matplotlib.pyplot as plt\n",
    "import random\n",
    "import string"
   ]
  },
  {
   "cell_type": "code",
   "execution_count": 3,
   "metadata": {},
   "outputs": [],
   "source": [
    "random.seed(0)\n",
    "N = 1000\n",
    "def rands(n):\n",
    "    choices = string.ascii_uppercase\n",
    "    return ''.join([random.choice(choices) for _ in range(n)])\n",
    "tickers = np.array([rands(5) for _ in range(N)])\n",
    "M = 500\n",
    "df = DataFrame({\n",
    "    'Mom':np.random.randn(M)/200+0.03,\n",
    "               'Value':np.random.randn(M)/200+0.08,\n",
    "               'Short':np.random.randn(M)/200-0.02},\n",
    "              index = tickers[:M])\n",
    "ind_names = np.array(['Financial','Tech'])\n",
    "sampler = np.random.randint(0,len(ind_names),N)\n",
    "industries = Series(ind_names[sampler],index = tickers,name='industry')\n",
    "by_industry = df.groupby(industries)\n",
    "by_industry.mean()\n",
    "by_industry.describe()\n",
    "def zscore(group):\n",
    "    return (group - group.mean())/group.std()\n",
    "df_stand = by_industry.apply(zscore)\n",
    "df_stand.groupby(industries).agg(['mean','std'])\n",
    "by_industry.apply(lambda x: zscore(x.rank()))\n",
    "f1,f2,f3 = np.random.rand(3,1000)\n",
    "ticker_subset = tickers.take(np.random.permutation(N)[:1000])\n",
    "port = Series(0.7*f1-1.2*f2+0.3*f3 + np.random.rand(1000),index = ticker_subset)\n",
    "fact = DataFrame({\n",
    "    'f1':f1,'f2':f2,'f3':f3},index = ticker_subset)\n",
    "fact.corrwith(port)\n",
    "a = range(2,3,4)"
   ]
  },
  {
   "cell_type": "code",
   "execution_count": 4,
   "metadata": {},
   "outputs": [
    {
     "data": {
      "text/plain": [
       "DatetimeIndex(['2012-06-01 09:30:00', '2012-06-01 09:31:00',\n",
       "               '2012-06-01 09:32:00', '2012-06-01 09:33:00',\n",
       "               '2012-06-01 09:34:00', '2012-06-01 09:35:00',\n",
       "               '2012-06-01 09:36:00', '2012-06-01 09:37:00',\n",
       "               '2012-06-01 09:38:00', '2012-06-01 09:39:00',\n",
       "               ...\n",
       "               '2012-06-01 15:50:00', '2012-06-01 15:51:00',\n",
       "               '2012-06-01 15:52:00', '2012-06-01 15:53:00',\n",
       "               '2012-06-01 15:54:00', '2012-06-01 15:55:00',\n",
       "               '2012-06-01 15:56:00', '2012-06-01 15:57:00',\n",
       "               '2012-06-01 15:58:00', '2012-06-01 15:59:00'],\n",
       "              dtype='datetime64[ns]', length=390, freq='T')"
      ]
     },
     "execution_count": 4,
     "metadata": {},
     "output_type": "execute_result"
    }
   ],
   "source": [
    "gdp = Series([1.78,1.94,2.08,2.01,2.15,2.31,2.46],\n",
    "             index=pd.period_range('1984Q2',periods=7,freq='Q-SEP'))\n",
    "infl = Series([0.025,0.045,0.037,0.04],\n",
    "              index=pd.period_range('1982',periods=4,freq='A-DEC'))\n",
    "infl_q = infl.asfreq('Q-SEP',how='end')\n",
    "rng = pd.date_range('2012-06-01 09:30','2012-06-01 15:59',freq='T')\n",
    "rng"
   ]
  },
  {
   "cell_type": "code",
   "execution_count": 5,
   "metadata": {},
   "outputs": [
    {
     "name": "stdout",
     "output_type": "stream",
     "text": [
      "2019-01-02    0.651157\n",
      "2019-01-09   -1.110932\n",
      "2019-01-16    0.048689\n",
      "2019-01-23    0.015973\n",
      "2019-01-30    0.216276\n",
      "2019-02-06    1.981823\n",
      "Freq: W-WED, dtype: float64\n"
     ]
    },
    {
     "data": {
      "text/plain": [
       "2019-01-05         NaN\n",
       "2019-01-16    0.048689\n",
       "2019-01-19    0.048689\n",
       "dtype: float64"
      ]
     },
     "execution_count": 5,
     "metadata": {},
     "output_type": "execute_result"
    },
    {
     "data": {
      "image/png": "[encoded data removed]",
      "text/plain": [
       "<Figure size 432x288 with 1 Axes>"
      ]
     },
     "metadata": {
      "needs_background": "light"
     },
     "output_type": "display_data"
    }
   ],
   "source": [
    "rng = pd.date_range('1/1/2000',periods=12,freq='T')\n",
    "ts = Series(np.arange(len(rng)),index = rng)\n",
    "ts.resample('5min').sum()\n",
    "ts.resample('5min').ohlc()\n",
    "rng = pd.date_range('1/1/2000',periods=100,freq='D')\n",
    "ts = Series(np.arange(100),index = rng)\n",
    "ts.groupby(lambda x: x.month).mean()\n",
    "ts.groupby(lambda x: x.weekday).mean()\n",
    "frame = DataFrame(np.random.randn(2,4),index = pd.date_range('1/1/2000',periods=2,freq='W-WED'),\n",
    "columns= ['C','T','N','O'])\n",
    "df_daily = frame.resample('D').ffill()\n",
    "df_daily['C'].plot()\n",
    "\n",
    "ts1 = Series(np.random.randn(6),index = pd.date_range('1/1/2019',periods=6,freq='W-WED'))\n",
    "ts1.resample('B').ffill()\n",
    "print(ts1)\n",
    "dates = pd.DatetimeIndex(['2019-01-05','2019-01-16','2019-01-19'])\n",
    "ts2 = Series(np.random.randn(3),index = dates)\n",
    "ts2\n",
    "ts1.reindex(ts2.index).ffill()"
   ]
  },
  {
   "cell_type": "code",
   "execution_count": 6,
   "metadata": {},
   "outputs": [
    {
     "ename": "TypeError",
     "evalue": "Addition/subtraction of integers and integer-arrays with DatetimeArray is no longer supported.  Instead of adding/subtracting `n`, use `n * obj.freq`",
     "output_type": "error",
     "traceback": [
      "\u001b[0;31m---------------------------------------------------------------------------\u001b[0m",
      "\u001b[0;31mTypeError\u001b[0m                                 Traceback (most recent call last)",
      "\u001b[0;32m/var/folders/f4/vwn8qlbj0dgb2m77_9sh1m5m0000gn/T/ipykernel_12918/3735514756.py\u001b[0m in \u001b[0;36m<module>\u001b[0;34m\u001b[0m\n\u001b[1;32m      7\u001b[0m \u001b[0mindex\u001b[0m\u001b[0;34m\u001b[0m\u001b[0;34m\u001b[0m\u001b[0m\n\u001b[1;32m      8\u001b[0m \u001b[0mts\u001b[0m \u001b[0;34m=\u001b[0m \u001b[0mSeries\u001b[0m\u001b[0;34m(\u001b[0m\u001b[0mnp\u001b[0m\u001b[0;34m.\u001b[0m\u001b[0mrandom\u001b[0m\u001b[0;34m.\u001b[0m\u001b[0mrandn\u001b[0m\u001b[0;34m(\u001b[0m\u001b[0;36m4\u001b[0m\u001b[0;34m)\u001b[0m\u001b[0;34m,\u001b[0m\u001b[0mindex\u001b[0m\u001b[0;34m=\u001b[0m\u001b[0mpd\u001b[0m\u001b[0;34m.\u001b[0m\u001b[0mdate_range\u001b[0m\u001b[0;34m(\u001b[0m\u001b[0;34m'1/1/2019'\u001b[0m\u001b[0;34m,\u001b[0m\u001b[0mperiods\u001b[0m\u001b[0;34m=\u001b[0m\u001b[0;36m4\u001b[0m\u001b[0;34m,\u001b[0m\u001b[0mfreq\u001b[0m\u001b[0;34m=\u001b[0m\u001b[0;34m'M'\u001b[0m\u001b[0;34m)\u001b[0m\u001b[0;34m)\u001b[0m\u001b[0;34m\u001b[0m\u001b[0;34m\u001b[0m\u001b[0m\n\u001b[0;32m----> 9\u001b[0;31m \u001b[0mts\u001b[0m\u001b[0;34m.\u001b[0m\u001b[0mshift\u001b[0m\u001b[0;34m(\u001b[0m\u001b[0;36m2\u001b[0m\u001b[0;34m,\u001b[0m\u001b[0mfreq\u001b[0m\u001b[0;34m=\u001b[0m\u001b[0;32mTrue\u001b[0m\u001b[0;34m)\u001b[0m\u001b[0;34m\u001b[0m\u001b[0;34m\u001b[0m\u001b[0m\n\u001b[0m\u001b[1;32m     10\u001b[0m \u001b[0mnow\u001b[0m \u001b[0;34m=\u001b[0m \u001b[0mdatetime\u001b[0m\u001b[0;34m(\u001b[0m\u001b[0;36m2019\u001b[0m\u001b[0;34m,\u001b[0m\u001b[0;36m1\u001b[0m\u001b[0;34m,\u001b[0m\u001b[0;36m12\u001b[0m\u001b[0;34m)\u001b[0m\u001b[0;34m\u001b[0m\u001b[0;34m\u001b[0m\u001b[0m\n\u001b[1;32m     11\u001b[0m \u001b[0mnow\u001b[0m\u001b[0;34m+\u001b[0m\u001b[0;36m3\u001b[0m\u001b[0;34m*\u001b[0m\u001b[0mDay\u001b[0m\u001b[0;34m(\u001b[0m\u001b[0;34m)\u001b[0m\u001b[0;34m\u001b[0m\u001b[0;34m\u001b[0m\u001b[0m\n",
      "\u001b[0;32m/Library/Frameworks/Python.framework/Versions/3.7/lib/python3.7/site-packages/pandas/core/series.py\u001b[0m in \u001b[0;36mshift\u001b[0;34m(self, periods, freq, axis, fill_value)\u001b[0m\n\u001b[1;32m   4904\u001b[0m     \u001b[0;32mdef\u001b[0m \u001b[0mshift\u001b[0m\u001b[0;34m(\u001b[0m\u001b[0mself\u001b[0m\u001b[0;34m,\u001b[0m \u001b[0mperiods\u001b[0m\u001b[0;34m=\u001b[0m\u001b[0;36m1\u001b[0m\u001b[0;34m,\u001b[0m \u001b[0mfreq\u001b[0m\u001b[0;34m=\u001b[0m\u001b[0;32mNone\u001b[0m\u001b[0;34m,\u001b[0m \u001b[0maxis\u001b[0m\u001b[0;34m=\u001b[0m\u001b[0;36m0\u001b[0m\u001b[0;34m,\u001b[0m \u001b[0mfill_value\u001b[0m\u001b[0;34m=\u001b[0m\u001b[0;32mNone\u001b[0m\u001b[0;34m)\u001b[0m \u001b[0;34m->\u001b[0m \u001b[0mSeries\u001b[0m\u001b[0;34m:\u001b[0m\u001b[0;34m\u001b[0m\u001b[0;34m\u001b[0m\u001b[0m\n\u001b[1;32m   4905\u001b[0m         return super().shift(\n\u001b[0;32m-> 4906\u001b[0;31m             \u001b[0mperiods\u001b[0m\u001b[0;34m=\u001b[0m\u001b[0mperiods\u001b[0m\u001b[0;34m,\u001b[0m \u001b[0mfreq\u001b[0m\u001b[0;34m=\u001b[0m\u001b[0mfreq\u001b[0m\u001b[0;34m,\u001b[0m \u001b[0maxis\u001b[0m\u001b[0;34m=\u001b[0m\u001b[0maxis\u001b[0m\u001b[0;34m,\u001b[0m \u001b[0mfill_value\u001b[0m\u001b[0;34m=\u001b[0m\u001b[0mfill_value\u001b[0m\u001b[0;34m\u001b[0m\u001b[0;34m\u001b[0m\u001b[0m\n\u001b[0m\u001b[1;32m   4907\u001b[0m         )\n\u001b[1;32m   4908\u001b[0m \u001b[0;34m\u001b[0m\u001b[0m\n",
      "\u001b[0;32m/Library/Frameworks/Python.framework/Versions/3.7/lib/python3.7/site-packages/pandas/core/generic.py\u001b[0m in \u001b[0;36mshift\u001b[0;34m(self, periods, freq, axis, fill_value)\u001b[0m\n\u001b[1;32m   9217\u001b[0m             \u001b[0mnew_ax\u001b[0m \u001b[0;34m=\u001b[0m \u001b[0mindex\u001b[0m\u001b[0;34m.\u001b[0m\u001b[0mshift\u001b[0m\u001b[0;34m(\u001b[0m\u001b[0mperiods\u001b[0m\u001b[0;34m)\u001b[0m\u001b[0;34m\u001b[0m\u001b[0;34m\u001b[0m\u001b[0m\n\u001b[1;32m   9218\u001b[0m         \u001b[0;32melse\u001b[0m\u001b[0;34m:\u001b[0m\u001b[0;34m\u001b[0m\u001b[0;34m\u001b[0m\u001b[0m\n\u001b[0;32m-> 9219\u001b[0;31m             \u001b[0mnew_ax\u001b[0m \u001b[0;34m=\u001b[0m \u001b[0mindex\u001b[0m\u001b[0;34m.\u001b[0m\u001b[0mshift\u001b[0m\u001b[0;34m(\u001b[0m\u001b[0mperiods\u001b[0m\u001b[0;34m,\u001b[0m \u001b[0mfreq\u001b[0m\u001b[0;34m)\u001b[0m\u001b[0;34m\u001b[0m\u001b[0;34m\u001b[0m\u001b[0m\n\u001b[0m\u001b[1;32m   9220\u001b[0m \u001b[0;34m\u001b[0m\u001b[0m\n\u001b[1;32m   9221\u001b[0m         \u001b[0mresult\u001b[0m \u001b[0;34m=\u001b[0m \u001b[0mself\u001b[0m\u001b[0;34m.\u001b[0m\u001b[0mset_axis\u001b[0m\u001b[0;34m(\u001b[0m\u001b[0mnew_ax\u001b[0m\u001b[0;34m,\u001b[0m \u001b[0maxis\u001b[0m\u001b[0;34m=\u001b[0m\u001b[0maxis\u001b[0m\u001b[0;34m)\u001b[0m\u001b[0;34m\u001b[0m\u001b[0;34m\u001b[0m\u001b[0m\n",
      "\u001b[0;32m/Library/Frameworks/Python.framework/Versions/3.7/lib/python3.7/site-packages/pandas/core/indexes/datetimelike.py\u001b[0m in \u001b[0;36mshift\u001b[0;34m(self, periods, freq)\u001b[0m\n\u001b[1;32m    497\u001b[0m         \u001b[0marr\u001b[0m \u001b[0;34m=\u001b[0m \u001b[0mself\u001b[0m\u001b[0;34m.\u001b[0m\u001b[0m_data\u001b[0m\u001b[0;34m.\u001b[0m\u001b[0mview\u001b[0m\u001b[0;34m(\u001b[0m\u001b[0;34m)\u001b[0m\u001b[0;34m\u001b[0m\u001b[0;34m\u001b[0m\u001b[0m\n\u001b[1;32m    498\u001b[0m         \u001b[0marr\u001b[0m\u001b[0;34m.\u001b[0m\u001b[0m_freq\u001b[0m \u001b[0;34m=\u001b[0m \u001b[0mself\u001b[0m\u001b[0;34m.\u001b[0m\u001b[0mfreq\u001b[0m\u001b[0;34m\u001b[0m\u001b[0;34m\u001b[0m\u001b[0m\n\u001b[0;32m--> 499\u001b[0;31m         \u001b[0mresult\u001b[0m \u001b[0;34m=\u001b[0m \u001b[0marr\u001b[0m\u001b[0;34m.\u001b[0m\u001b[0m_time_shift\u001b[0m\u001b[0;34m(\u001b[0m\u001b[0mperiods\u001b[0m\u001b[0;34m,\u001b[0m \u001b[0mfreq\u001b[0m\u001b[0;34m=\u001b[0m\u001b[0mfreq\u001b[0m\u001b[0;34m)\u001b[0m\u001b[0;34m\u001b[0m\u001b[0;34m\u001b[0m\u001b[0m\n\u001b[0m\u001b[1;32m    500\u001b[0m         \u001b[0;32mreturn\u001b[0m \u001b[0mtype\u001b[0m\u001b[0;34m(\u001b[0m\u001b[0mself\u001b[0m\u001b[0;34m)\u001b[0m\u001b[0;34m(\u001b[0m\u001b[0mresult\u001b[0m\u001b[0;34m,\u001b[0m \u001b[0mname\u001b[0m\u001b[0;34m=\u001b[0m\u001b[0mself\u001b[0m\u001b[0;34m.\u001b[0m\u001b[0mname\u001b[0m\u001b[0;34m)\u001b[0m\u001b[0;34m\u001b[0m\u001b[0;34m\u001b[0m\u001b[0m\n\u001b[1;32m    501\u001b[0m \u001b[0;34m\u001b[0m\u001b[0m\n",
      "\u001b[0;32m/Library/Frameworks/Python.framework/Versions/3.7/lib/python3.7/site-packages/pandas/core/arrays/datetimelike.py\u001b[0m in \u001b[0;36m_time_shift\u001b[0;34m(self, periods, freq)\u001b[0m\n\u001b[1;32m   1228\u001b[0m                 \u001b[0mfreq\u001b[0m \u001b[0;34m=\u001b[0m \u001b[0mto_offset\u001b[0m\u001b[0;34m(\u001b[0m\u001b[0mfreq\u001b[0m\u001b[0;34m)\u001b[0m\u001b[0;34m\u001b[0m\u001b[0;34m\u001b[0m\u001b[0m\n\u001b[1;32m   1229\u001b[0m             \u001b[0moffset\u001b[0m \u001b[0;34m=\u001b[0m \u001b[0mperiods\u001b[0m \u001b[0;34m*\u001b[0m \u001b[0mfreq\u001b[0m\u001b[0;34m\u001b[0m\u001b[0;34m\u001b[0m\u001b[0m\n\u001b[0;32m-> 1230\u001b[0;31m             \u001b[0;32mreturn\u001b[0m \u001b[0mself\u001b[0m \u001b[0;34m+\u001b[0m \u001b[0moffset\u001b[0m\u001b[0;34m\u001b[0m\u001b[0;34m\u001b[0m\u001b[0m\n\u001b[0m\u001b[1;32m   1231\u001b[0m \u001b[0;34m\u001b[0m\u001b[0m\n\u001b[1;32m   1232\u001b[0m         \u001b[0;32mif\u001b[0m \u001b[0mperiods\u001b[0m \u001b[0;34m==\u001b[0m \u001b[0;36m0\u001b[0m \u001b[0;32mor\u001b[0m \u001b[0mlen\u001b[0m\u001b[0;34m(\u001b[0m\u001b[0mself\u001b[0m\u001b[0;34m)\u001b[0m \u001b[0;34m==\u001b[0m \u001b[0;36m0\u001b[0m\u001b[0;34m:\u001b[0m\u001b[0;34m\u001b[0m\u001b[0;34m\u001b[0m\u001b[0m\n",
      "\u001b[0;32m/Library/Frameworks/Python.framework/Versions/3.7/lib/python3.7/site-packages/pandas/core/ops/common.py\u001b[0m in \u001b[0;36mnew_method\u001b[0;34m(self, other)\u001b[0m\n\u001b[1;32m     67\u001b[0m         \u001b[0mother\u001b[0m \u001b[0;34m=\u001b[0m \u001b[0mitem_from_zerodim\u001b[0m\u001b[0;34m(\u001b[0m\u001b[0mother\u001b[0m\u001b[0;34m)\u001b[0m\u001b[0;34m\u001b[0m\u001b[0;34m\u001b[0m\u001b[0m\n\u001b[1;32m     68\u001b[0m \u001b[0;34m\u001b[0m\u001b[0m\n\u001b[0;32m---> 69\u001b[0;31m         \u001b[0;32mreturn\u001b[0m \u001b[0mmethod\u001b[0m\u001b[0;34m(\u001b[0m\u001b[0mself\u001b[0m\u001b[0;34m,\u001b[0m \u001b[0mother\u001b[0m\u001b[0;34m)\u001b[0m\u001b[0;34m\u001b[0m\u001b[0;34m\u001b[0m\u001b[0m\n\u001b[0m\u001b[1;32m     70\u001b[0m \u001b[0;34m\u001b[0m\u001b[0m\n\u001b[1;32m     71\u001b[0m     \u001b[0;32mreturn\u001b[0m \u001b[0mnew_method\u001b[0m\u001b[0;34m\u001b[0m\u001b[0;34m\u001b[0m\u001b[0m\n",
      "\u001b[0;32m/Library/Frameworks/Python.framework/Versions/3.7/lib/python3.7/site-packages/pandas/core/arrays/datetimelike.py\u001b[0m in \u001b[0;36m__add__\u001b[0;34m(self, other)\u001b[0m\n\u001b[1;32m   1265\u001b[0m             \u001b[0;31m# as is_integer returns True for these\u001b[0m\u001b[0;34m\u001b[0m\u001b[0;34m\u001b[0m\u001b[0;34m\u001b[0m\u001b[0m\n\u001b[1;32m   1266\u001b[0m             \u001b[0;32mif\u001b[0m \u001b[0;32mnot\u001b[0m \u001b[0mis_period_dtype\u001b[0m\u001b[0;34m(\u001b[0m\u001b[0mself\u001b[0m\u001b[0;34m.\u001b[0m\u001b[0mdtype\u001b[0m\u001b[0;34m)\u001b[0m\u001b[0;34m:\u001b[0m\u001b[0;34m\u001b[0m\u001b[0;34m\u001b[0m\u001b[0m\n\u001b[0;32m-> 1267\u001b[0;31m                 \u001b[0;32mraise\u001b[0m \u001b[0minteger_op_not_supported\u001b[0m\u001b[0;34m(\u001b[0m\u001b[0mself\u001b[0m\u001b[0;34m)\u001b[0m\u001b[0;34m\u001b[0m\u001b[0;34m\u001b[0m\u001b[0m\n\u001b[0m\u001b[1;32m   1268\u001b[0m             \u001b[0mresult\u001b[0m \u001b[0;34m=\u001b[0m \u001b[0mself\u001b[0m\u001b[0;34m.\u001b[0m\u001b[0m_time_shift\u001b[0m\u001b[0;34m(\u001b[0m\u001b[0mother\u001b[0m\u001b[0;34m)\u001b[0m\u001b[0;34m\u001b[0m\u001b[0;34m\u001b[0m\u001b[0m\n\u001b[1;32m   1269\u001b[0m \u001b[0;34m\u001b[0m\u001b[0m\n",
      "\u001b[0;31mTypeError\u001b[0m: Addition/subtraction of integers and integer-arrays with DatetimeArray is no longer supported.  Instead of adding/subtracting `n`, use `n * obj.freq`"
     ]
    }
   ],
   "source": [
    "index = pd.date_range('1/1/2019','1/6/2019')\n",
    "index = pd.date_range(end = '1/1/2019',periods=5)\n",
    "index = pd.date_range('1/1/2019','1/6/2019',freq='5H')\n",
    "index = Hour(2)+Minute(30)\n",
    "index = pd.date_range('1/1/2019','1/6/2019',freq='5h30min')\n",
    "index = pd.date_range('1/1/2019','2/10/2019',freq='WOM-3FRI')\n",
    "index\n",
    "ts = Series(np.random.randn(4),index=pd.date_range('1/1/2019',periods=4,freq='M'))\n",
    "ts.shift(2,freq=True)\n",
    "now = datetime(2019,1,12)\n",
    "now+3*Day()\n",
    "now+2*MonthEnd()\n",
    "now+MonthEnd(2)\n",
    "now = datetime(2019,1,12)\n",
    "MonthEnd().rollforward(now)\n",
    "MonthEnd().rollback(now)\n",
    "ts = Series(np.random.randn(20),index=pd.date_range('1/1/2019',periods=20,freq='4d'))\n",
    "ts.groupby(MonthEnd().rollforward).mean()\n",
    "pytz.common_timezones[-5:]\n",
    "tz = pytz.timezone('US/Hawaii')\n",
    "rng = pd.date_range('3/9/2019 9:30',periods=6,freq='D')\n",
    "ts = Series(np.random.randn(len(rng)),index = rng)\n",
    "pd.date_range('3/9/2019 9:30',periods=6,freq='D',tz='UTC')\n",
    "ts_utc = ts.tz_localize('UTC')\n",
    "ts_utc.tz_convert('US/Hawaii')\n",
    "stamp = pd.Timestamp('2011-1-9 4:00')\n",
    "stamp_utc = stamp.tz_localize('UTC')\n",
    "stamp_utc.tz_convert('US/Hawaii')\n",
    "stamp = pd.Timestamp('2011-1-9 4:00',tz='US/Hawaii')\n",
    "stamp + Hour(3)\n",
    "p = pd.Period(2007,freq='A-DEC')\n",
    "rng = pd.period_range('1/1/2019','6/30/2019',freq='M')\n",
    "Series(np.random.randn(6),index = rng)\n",
    "rng = pd.period_range('2003Q3','2004Q4',freq='Q-JAN')\n",
    "ts = Series(np.arange(len(rng)),index=rng)\n",
    "new_rng = (rng.asfreq('B','e')-1).asfreq('T','s')+16*60\n",
    "ts.index = new_rng.to_timestamp()\n",
    "rng = pd.date_range('1/1/2000',periods=3,freq='M')\n",
    "ts = Series(np.random.randn(3),index = rng)\n",
    "pts = ts.to_period()\n",
    "rng = pd.date_range('1/29/2000',periods=6,freq='D')\n",
    "ts2 = Series(np.random.randn(6),index = rng)\n",
    "ts2.to_period('M')\n",
    "print(pts)\n",
    "pts.to_timestamp(how='end')\n"
   ]
  },
  {
   "cell_type": "code",
   "execution_count": 7,
   "metadata": {},
   "outputs": [
    {
     "name": "stdout",
     "output_type": "stream",
     "text": [
      "2019-01-02   -1.538395\n",
      "2019-01-03   -0.756012\n",
      "2019-01-04   -1.367900\n",
      "dtype: float64\n",
      "2019-01-01    1\n",
      "2019-01-02    2\n",
      "dtype: int64\n"
     ]
    }
   ],
   "source": [
    "dates = [datetime(2019,1,2),datetime(2019,1,3),datetime(2019,1,4)]\n",
    "ts = Series(np.random.randn(3),index=dates)\n",
    "print(ts)\n",
    "type(ts)\n",
    "ts.index\n",
    "ts + ts[::2]\n",
    "lts = Series(np.random.randn(10),index=pd.date_range('1/1/2019',periods=10))\n",
    "dates = pd.DatetimeIndex(['1/1/2019','1/2/2019','1/2/2019'])\n",
    "dup = Series(np.arange(3),index = dates)\n",
    "group = dup.groupby(level=0)\n",
    "print(group.count())"
   ]
  },
  {
   "cell_type": "code",
   "execution_count": 8,
   "metadata": {},
   "outputs": [
    {
     "data": {
      "text/plain": [
       "NaT"
      ]
     },
     "execution_count": 8,
     "metadata": {},
     "output_type": "execute_result"
    }
   ],
   "source": [
    "now = datetime.now()\n",
    "now.year, now.month, now.day\n",
    "delta = datetime(2019,1,11)-datetime(2019,1,1)\n",
    "delta\n",
    "datetime(2019,1,11) + timedelta(14)\n",
    "stamp = datetime(2011,1,3)\n",
    "b = stamp.strftime('%Y-%m-%d')\n",
    "datetime.strptime(b,'%Y-%d-%m')\n",
    "datestr = ['2019/1/1','2019/1/11']\n",
    "ids = pd.to_datetime(datestr+[None])\n",
    "ids[2]"
   ]
  },
  {
   "cell_type": "code",
   "execution_count": 9,
   "metadata": {},
   "outputs": [
    {
     "name": "stdout",
     "output_type": "stream",
     "text": [
      "  cata      data    weight\n",
      "0    a  0.810928  0.902061\n",
      "1    a -0.402846  0.608372\n",
      "2    a -1.765958  0.046529\n",
      "3    a  0.040526  0.389746\n",
      "4    b -0.508347  0.714680\n",
      "5    b -1.933231  0.694486\n",
      "6    b -0.554901  0.923321\n",
      "7    b -0.079504  0.311278\n"
     ]
    },
    {
     "name": "stderr",
     "output_type": "stream",
     "text": [
      "/Library/Frameworks/Python.framework/Versions/3.7/lib/python3.7/site-packages/numpy/core/fromnumeric.py:3438: FutureWarning: Dropping of nuisance columns in DataFrame reductions (with 'numeric_only=None') is deprecated; in a future version this will raise TypeError.  Select only valid columns before calling the reduction.\n",
      "  return mean(axis=axis, dtype=dtype, out=out, **kwargs)\n"
     ]
    }
   ],
   "source": [
    "df = DataFrame({\n",
    "    'cata':['a','a','a','a','b','b','b','b'],'data':np.random.randn(8),\n",
    "               'weight':np.random.rand(8)})\n",
    "print(df)\n",
    "a = df.groupby('cata')\n",
    "a.apply(np.mean)\n",
    "b = pd.cut(df.data,4)"
   ]
  },
  {
   "cell_type": "code",
   "execution_count": 10,
   "metadata": {},
   "outputs": [
    {
     "name": "stdout",
     "output_type": "stream",
     "text": [
      "AH      1\n",
      "2H      2\n",
      "3H      3\n",
      "4H      4\n",
      "5H      5\n",
      "6H      6\n",
      "7H      7\n",
      "8H      8\n",
      "9H      9\n",
      "10H    10\n",
      "JH     10\n",
      "QH     10\n",
      "KH     10\n",
      "dtype: int64\n"
     ]
    },
    {
     "data": {
      "text/plain": [
       "10S    10\n",
       "AS      1\n",
       "8C      8\n",
       "5D      5\n",
       "7C      7\n",
       "dtype: int64"
      ]
     },
     "execution_count": 10,
     "metadata": {},
     "output_type": "execute_result"
    }
   ],
   "source": [
    "suits = ['H','S','C','D']\n",
    "card_val = (list(range(1, 11)) + [10] * 3) * 4\n",
    "base_name = ['A'] + list(range(2,11)) + ['J','Q','K']\n",
    "cards = []\n",
    "for suit in suits:\n",
    "    cards.extend(str(num) + suit for num in base_name)\n",
    "deck = Series(card_val,index=cards)\n",
    "print(deck[:13])\n",
    "def draw(deck,n=5):\n",
    "    return deck.take(np.random.permutation(len(deck))[:n])\n",
    "draw(deck)"
   ]
  },
  {
   "cell_type": "code",
   "execution_count": 11,
   "metadata": {},
   "outputs": [
    {
     "data": {
      "text/plain": [
       "array([4, 7, 5, 3, 0, 6, 2, 8, 1])"
      ]
     },
     "execution_count": 11,
     "metadata": {},
     "output_type": "execute_result"
    }
   ],
   "source": [
    "a = np.random.permutation(9)\n",
    "a"
   ]
  },
  {
   "cell_type": "code",
   "execution_count": 12,
   "metadata": {},
   "outputs": [
    {
     "data": {
      "text/plain": [
       "0         NaN\n",
       "1   -1.112454\n",
       "2         NaN\n",
       "3   -0.644569\n",
       "4         NaN\n",
       "5    0.429670\n",
       "dtype: float64"
      ]
     },
     "execution_count": 12,
     "metadata": {},
     "output_type": "execute_result"
    }
   ],
   "source": [
    "s = Series(np.random.randn(6))\n",
    "s[::2] = np.nan\n",
    "s"
   ]
  },
  {
   "cell_type": "code",
   "execution_count": 13,
   "metadata": {},
   "outputs": [
    {
     "data": {
      "text/plain": [
       "0   -0.442451\n",
       "1   -1.112454\n",
       "2   -0.442451\n",
       "3   -0.644569\n",
       "4   -0.442451\n",
       "5    0.429670\n",
       "dtype: float64"
      ]
     },
     "execution_count": 13,
     "metadata": {},
     "output_type": "execute_result"
    }
   ],
   "source": [
    "a = s.fillna(s.mean())\n",
    "a"
   ]
  },
  {
   "cell_type": "code",
   "execution_count": 14,
   "metadata": {},
   "outputs": [
    {
     "name": "stdout",
     "output_type": "stream",
     "text": [
      "0                  (-0.842, -0.638]\n",
      "1                      (0.5, 1.695]\n",
      "2                  (-0.842, -0.638]\n",
      "3                      (0.5, 1.695]\n",
      "4                      (0.5, 1.695]\n",
      "5                      (0.5, 1.695]\n",
      "6                  (-0.842, -0.638]\n",
      "7                  (-0.638, -0.132]\n",
      "8     (-1.2999999999999998, -0.842]\n",
      "9     (-1.2999999999999998, -0.842]\n",
      "10                    (-0.132, 0.5]\n",
      "11                    (-0.132, 0.5]\n",
      "12    (-1.2999999999999998, -0.842]\n",
      "13    (-1.2999999999999998, -0.842]\n",
      "14                 (-0.638, -0.132]\n",
      "15                    (-0.132, 0.5]\n",
      "16                 (-0.638, -0.132]\n",
      "17                 (-0.638, -0.132]\n",
      "18                 (-0.842, -0.638]\n",
      "19                    (-0.132, 0.5]\n",
      "Name: data1, dtype: category\n",
      "Categories (5, interval[float64, right]): [(-1.2999999999999998, -0.842] < (-0.842, -0.638] < (-0.638, -0.132] < (-0.132, 0.5] < (0.5, 1.695]]\n"
     ]
    },
    {
     "data": {
      "text/html": [
       "<div>\n",
       "<style scoped>\n",
       "    .dataframe tbody tr th:only-of-type {\n",
       "        vertical-align: middle;\n",
       "    }\n",
       "\n",
       "    .dataframe tbody tr th {\n",
       "        vertical-align: top;\n",
       "    }\n",
       "\n",
       "    .dataframe thead th {\n",
       "        text-align: right;\n",
       "    }\n",
       "</style>\n",
       "<table border=\"1\" class=\"dataframe\">\n",
       "  <thead>\n",
       "    <tr style=\"text-align: right;\">\n",
       "      <th></th>\n",
       "      <th>min</th>\n",
       "      <th>max</th>\n",
       "    </tr>\n",
       "    <tr>\n",
       "      <th>data1</th>\n",
       "      <th></th>\n",
       "      <th></th>\n",
       "    </tr>\n",
       "  </thead>\n",
       "  <tbody>\n",
       "    <tr>\n",
       "      <th>(-1.2999999999999998, -0.842]</th>\n",
       "      <td>-1.299339</td>\n",
       "      <td>-0.892057</td>\n",
       "    </tr>\n",
       "    <tr>\n",
       "      <th>(-0.842, -0.638]</th>\n",
       "      <td>-0.830041</td>\n",
       "      <td>-0.666330</td>\n",
       "    </tr>\n",
       "    <tr>\n",
       "      <th>(-0.638, -0.132]</th>\n",
       "      <td>-0.619111</td>\n",
       "      <td>-0.179675</td>\n",
       "    </tr>\n",
       "    <tr>\n",
       "      <th>(-0.132, 0.5]</th>\n",
       "      <td>-0.061369</td>\n",
       "      <td>0.500049</td>\n",
       "    </tr>\n",
       "    <tr>\n",
       "      <th>(0.5, 1.695]</th>\n",
       "      <td>0.500359</td>\n",
       "      <td>1.695193</td>\n",
       "    </tr>\n",
       "  </tbody>\n",
       "</table>\n",
       "</div>"
      ],
      "text/plain": [
       "                                    min       max\n",
       "data1                                            \n",
       "(-1.2999999999999998, -0.842] -1.299339 -0.892057\n",
       "(-0.842, -0.638]              -0.830041 -0.666330\n",
       "(-0.638, -0.132]              -0.619111 -0.179675\n",
       "(-0.132, 0.5]                 -0.061369  0.500049\n",
       "(0.5, 1.695]                   0.500359  1.695193"
      ]
     },
     "execution_count": 14,
     "metadata": {},
     "output_type": "execute_result"
    }
   ],
   "source": [
    "frame = DataFrame({\n",
    "    'data1':np.random.randn(20),'data2':np.random.randn(20)})\n",
    "factor = pd.qcut(frame.data1,5)\n",
    "print(factor)\n",
    "def get_stats(group):\n",
    "    return {\n",
    "    'min':group.min(),'max':group.max()}\n",
    "grouped = frame.data1.groupby(factor,group_keys=False)\n",
    "grouped.apply(get_stats).unstack()"
   ]
  },
  {
   "cell_type": "code",
   "execution_count": 15,
   "metadata": {},
   "outputs": [
    {
     "name": "stdout",
     "output_type": "stream",
     "text": [
      "    k1  k2  v1\n",
      "0  one   1   0\n",
      "1  one   1   1\n",
      "2  one   2   2\n",
      "3  two   3   3\n",
      "4  two   3   4\n",
      "5  two   4   5\n",
      "6  two   4   6\n"
     ]
    },
    {
     "data": {
      "text/html": [
       "<div>\n",
       "<style scoped>\n",
       "    .dataframe tbody tr th:only-of-type {\n",
       "        vertical-align: middle;\n",
       "    }\n",
       "\n",
       "    .dataframe tbody tr th {\n",
       "        vertical-align: top;\n",
       "    }\n",
       "\n",
       "    .dataframe thead th {\n",
       "        text-align: right;\n",
       "    }\n",
       "</style>\n",
       "<table border=\"1\" class=\"dataframe\">\n",
       "  <thead>\n",
       "    <tr style=\"text-align: right;\">\n",
       "      <th></th>\n",
       "      <th>k2</th>\n",
       "      <th>v1</th>\n",
       "    </tr>\n",
       "  </thead>\n",
       "  <tbody>\n",
       "    <tr>\n",
       "      <th>count</th>\n",
       "      <td>7.000000</td>\n",
       "      <td>7.000000</td>\n",
       "    </tr>\n",
       "    <tr>\n",
       "      <th>mean</th>\n",
       "      <td>2.571429</td>\n",
       "      <td>3.000000</td>\n",
       "    </tr>\n",
       "    <tr>\n",
       "      <th>std</th>\n",
       "      <td>1.272418</td>\n",
       "      <td>2.160247</td>\n",
       "    </tr>\n",
       "    <tr>\n",
       "      <th>min</th>\n",
       "      <td>1.000000</td>\n",
       "      <td>0.000000</td>\n",
       "    </tr>\n",
       "    <tr>\n",
       "      <th>25%</th>\n",
       "      <td>1.500000</td>\n",
       "      <td>1.500000</td>\n",
       "    </tr>\n",
       "    <tr>\n",
       "      <th>50%</th>\n",
       "      <td>3.000000</td>\n",
       "      <td>3.000000</td>\n",
       "    </tr>\n",
       "    <tr>\n",
       "      <th>75%</th>\n",
       "      <td>3.500000</td>\n",
       "      <td>4.500000</td>\n",
       "    </tr>\n",
       "    <tr>\n",
       "      <th>max</th>\n",
       "      <td>4.000000</td>\n",
       "      <td>6.000000</td>\n",
       "    </tr>\n",
       "  </tbody>\n",
       "</table>\n",
       "</div>"
      ],
      "text/plain": [
       "             k2        v1\n",
       "count  7.000000  7.000000\n",
       "mean   2.571429  3.000000\n",
       "std    1.272418  2.160247\n",
       "min    1.000000  0.000000\n",
       "25%    1.500000  1.500000\n",
       "50%    3.000000  3.000000\n",
       "75%    3.500000  4.500000\n",
       "max    4.000000  6.000000"
      ]
     },
     "execution_count": 15,
     "metadata": {},
     "output_type": "execute_result"
    }
   ],
   "source": [
    "data = DataFrame({\n",
    "    'k1':['one']*3 +['two']*4,'k2':[1,1,2,3,3,4,4]})\n",
    "data['v1']=range(7)\n",
    "print(data)\n",
    "data.drop_duplicates(['k1'])\n",
    "data.describe()"
   ]
  },
  {
   "cell_type": "code",
   "execution_count": 16,
   "metadata": {},
   "outputs": [
    {
     "name": "stdout",
     "output_type": "stream",
     "text": [
      "a    0\n",
      "b    1\n",
      "c    2\n",
      "d    3\n",
      "dtype: int64\n",
      "b    2\n",
      "c    3\n",
      "d    4\n",
      "e    5\n",
      "dtype: int64\n",
      "one  a    0\n",
      "     b    1\n",
      "     c    2\n",
      "     d    3\n",
      "two  b    2\n",
      "     c    3\n",
      "     d    4\n",
      "     e    5\n",
      "dtype: int64\n"
     ]
    },
    {
     "data": {
      "text/plain": [
       "one  a    0.0\n",
       "     b    1.0\n",
       "     c    2.0\n",
       "     d    3.0\n",
       "two  b    2.0\n",
       "     c    3.0\n",
       "     d    4.0\n",
       "     e    5.0\n",
       "dtype: float64"
      ]
     },
     "execution_count": 16,
     "metadata": {},
     "output_type": "execute_result"
    }
   ],
   "source": [
    "s1 = Series([0,1,2,3],index=['a','b','c','d'])\n",
    "print(s1)\n",
    "s2 = Series([2,3,4,5],index=['b','c','d','e'])\n",
    "print(s2)\n",
    "df = pd.concat([s1,s2],keys=['one','two'])\n",
    "print(df)\n",
    "df.unstack().stack()"
   ]
  },
  {
   "cell_type": "code",
   "execution_count": 17,
   "metadata": {},
   "outputs": [
    {
     "name": "stdout",
     "output_type": "stream",
     "text": [
      "  key1 key2  lval\n",
      "0    f    o     1\n",
      "1    f    t     2\n",
      "2    b    t     3\n",
      "  key1 key2  rval\n",
      "0    f    o     1\n",
      "1    f    o     2\n",
      "2    b    o     3\n",
      "3    b    t     4\n"
     ]
    },
    {
     "data": {
      "text/html": [
       "<div>\n",
       "<style scoped>\n",
       "    .dataframe tbody tr th:only-of-type {\n",
       "        vertical-align: middle;\n",
       "    }\n",
       "\n",
       "    .dataframe tbody tr th {\n",
       "        vertical-align: top;\n",
       "    }\n",
       "\n",
       "    .dataframe thead th {\n",
       "        text-align: right;\n",
       "    }\n",
       "</style>\n",
       "<table border=\"1\" class=\"dataframe\">\n",
       "  <thead>\n",
       "    <tr style=\"text-align: right;\">\n",
       "      <th></th>\n",
       "      <th>key1</th>\n",
       "      <th>key2</th>\n",
       "      <th>lval</th>\n",
       "      <th>rval</th>\n",
       "    </tr>\n",
       "  </thead>\n",
       "  <tbody>\n",
       "    <tr>\n",
       "      <th>0</th>\n",
       "      <td>f</td>\n",
       "      <td>o</td>\n",
       "      <td>1.0</td>\n",
       "      <td>1.0</td>\n",
       "    </tr>\n",
       "    <tr>\n",
       "      <th>1</th>\n",
       "      <td>f</td>\n",
       "      <td>o</td>\n",
       "      <td>1.0</td>\n",
       "      <td>2.0</td>\n",
       "    </tr>\n",
       "    <tr>\n",
       "      <th>2</th>\n",
       "      <td>f</td>\n",
       "      <td>t</td>\n",
       "      <td>2.0</td>\n",
       "      <td>NaN</td>\n",
       "    </tr>\n",
       "    <tr>\n",
       "      <th>3</th>\n",
       "      <td>b</td>\n",
       "      <td>t</td>\n",
       "      <td>3.0</td>\n",
       "      <td>4.0</td>\n",
       "    </tr>\n",
       "    <tr>\n",
       "      <th>4</th>\n",
       "      <td>b</td>\n",
       "      <td>o</td>\n",
       "      <td>NaN</td>\n",
       "      <td>3.0</td>\n",
       "    </tr>\n",
       "  </tbody>\n",
       "</table>\n",
       "</div>"
      ],
      "text/plain": [
       "  key1 key2  lval  rval\n",
       "0    f    o   1.0   1.0\n",
       "1    f    o   1.0   2.0\n",
       "2    f    t   2.0   NaN\n",
       "3    b    t   3.0   4.0\n",
       "4    b    o   NaN   3.0"
      ]
     },
     "execution_count": 17,
     "metadata": {},
     "output_type": "execute_result"
    }
   ],
   "source": [
    "df1 = DataFrame({\n",
    "    'key1':['f','f','b'],'key2':['o','t','t'],'lval':[1,2,3]})\n",
    "print(df1)\n",
    "df2 = DataFrame({\n",
    "    'key1':['f','f','b','b'],'key2':['o','o','o','t'],'rval':[1,2,3,4]})\n",
    "print(df2)\n",
    "pd.merge(df1,df2,on=['key1','key2'],how='outer')"
   ]
  },
  {
   "cell_type": "code",
   "execution_count": 18,
   "metadata": {},
   "outputs": [
    {
     "data": {
      "text/html": [
       "<div>\n",
       "<style scoped>\n",
       "    .dataframe tbody tr th:only-of-type {\n",
       "        vertical-align: middle;\n",
       "    }\n",
       "\n",
       "    .dataframe tbody tr th {\n",
       "        vertical-align: top;\n",
       "    }\n",
       "\n",
       "    .dataframe thead th {\n",
       "        text-align: right;\n",
       "    }\n",
       "</style>\n",
       "<table border=\"1\" class=\"dataframe\">\n",
       "  <thead>\n",
       "    <tr style=\"text-align: right;\">\n",
       "      <th></th>\n",
       "      <th>0</th>\n",
       "      <th>1</th>\n",
       "      <th>2</th>\n",
       "    </tr>\n",
       "  </thead>\n",
       "  <tbody>\n",
       "    <tr>\n",
       "      <th>0</th>\n",
       "      <td>-0.089977</td>\n",
       "      <td>-0.147468</td>\n",
       "      <td>2.082980</td>\n",
       "    </tr>\n",
       "    <tr>\n",
       "      <th>1</th>\n",
       "      <td>0.495763</td>\n",
       "      <td>0.902214</td>\n",
       "      <td>1.934666</td>\n",
       "    </tr>\n",
       "    <tr>\n",
       "      <th>2</th>\n",
       "      <td>-0.756519</td>\n",
       "      <td>-0.781135</td>\n",
       "      <td>0.624038</td>\n",
       "    </tr>\n",
       "    <tr>\n",
       "      <th>3</th>\n",
       "      <td>1.043106</td>\n",
       "      <td>-0.500973</td>\n",
       "      <td>0.922311</td>\n",
       "    </tr>\n",
       "  </tbody>\n",
       "</table>\n",
       "</div>"
      ],
      "text/plain": [
       "          0         1         2\n",
       "0 -0.089977 -0.147468  2.082980\n",
       "1  0.495763  0.902214  1.934666\n",
       "2 -0.756519 -0.781135  0.624038\n",
       "3  1.043106 -0.500973  0.922311"
      ]
     },
     "execution_count": 18,
     "metadata": {},
     "output_type": "execute_result"
    }
   ],
   "source": [
    "dt = DataFrame(np.random.randn(4,3))\n",
    "dt.to_csv('cho1.csv')\n",
    "dt"
   ]
  },
  {
   "cell_type": "code",
   "execution_count": 19,
   "metadata": {},
   "outputs": [
    {
     "name": "stdout",
     "output_type": "stream",
     "text": [
      "cho1.csv not found\n"
     ]
    }
   ],
   "source": [
    "!type cho1.csv"
   ]
  },
  {
   "cell_type": "code",
   "execution_count": 20,
   "metadata": {},
   "outputs": [
    {
     "name": "stdout",
     "output_type": "stream",
     "text": [
      "   0  1\n",
      "2  0  1\n",
      "0  2  3\n",
      "1  4  5\n",
      "0    0\n",
      "1    1\n",
      "Name: 2, dtype: int64\n"
     ]
    }
   ],
   "source": [
    "frame = DataFrame(np.arange(6).reshape(3,2),index=[2,0,1])\n",
    "print(frame)\n",
    "print(frame.iloc[0])"
   ]
  },
  {
   "cell_type": "code",
   "execution_count": 21,
   "metadata": {},
   "outputs": [
    {
     "name": "stdout",
     "output_type": "stream",
     "text": [
      "          a         d         c\n",
      "0 -0.180695 -0.528032  0.927652\n",
      "1  0.079437  0.030243 -0.298105\n",
      "2  0.101577 -1.078271  0.062799\n",
      "3  0.493562  0.300716  0.132579\n"
     ]
    },
    {
     "data": {
      "text/html": [
       "<div>\n",
       "<style scoped>\n",
       "    .dataframe tbody tr th:only-of-type {\n",
       "        vertical-align: middle;\n",
       "    }\n",
       "\n",
       "    .dataframe tbody tr th {\n",
       "        vertical-align: top;\n",
       "    }\n",
       "\n",
       "    .dataframe thead th {\n",
       "        text-align: right;\n",
       "    }\n",
       "</style>\n",
       "<table border=\"1\" class=\"dataframe\">\n",
       "  <thead>\n",
       "    <tr style=\"text-align: right;\">\n",
       "      <th></th>\n",
       "      <th>a</th>\n",
       "      <th>c</th>\n",
       "      <th>d</th>\n",
       "    </tr>\n",
       "  </thead>\n",
       "  <tbody>\n",
       "    <tr>\n",
       "      <th>0</th>\n",
       "      <td>-0.180695</td>\n",
       "      <td>0.927652</td>\n",
       "      <td>-0.528032</td>\n",
       "    </tr>\n",
       "    <tr>\n",
       "      <th>1</th>\n",
       "      <td>0.079437</td>\n",
       "      <td>-0.298105</td>\n",
       "      <td>0.030243</td>\n",
       "    </tr>\n",
       "    <tr>\n",
       "      <th>2</th>\n",
       "      <td>0.101577</td>\n",
       "      <td>0.062799</td>\n",
       "      <td>-1.078271</td>\n",
       "    </tr>\n",
       "    <tr>\n",
       "      <th>3</th>\n",
       "      <td>0.493562</td>\n",
       "      <td>0.132579</td>\n",
       "      <td>0.300716</td>\n",
       "    </tr>\n",
       "  </tbody>\n",
       "</table>\n",
       "</div>"
      ],
      "text/plain": [
       "          a         c         d\n",
       "0 -0.180695  0.927652 -0.528032\n",
       "1  0.079437 -0.298105  0.030243\n",
       "2  0.101577  0.062799 -1.078271\n",
       "3  0.493562  0.132579  0.300716"
      ]
     },
     "execution_count": 21,
     "metadata": {},
     "output_type": "execute_result"
    }
   ],
   "source": [
    "frame = DataFrame(np.random.randn(4,3),columns=list('adc'))\n",
    "print(frame)\n",
    "np.fabs(frame)\n",
    "frame.sort_index(axis=1)"
   ]
  },
  {
   "cell_type": "code",
   "execution_count": 22,
   "metadata": {},
   "outputs": [
    {
     "name": "stdout",
     "output_type": "stream",
     "text": [
      "a    0\n",
      "d    1\n",
      "c    2\n",
      "dtype: int64\n"
     ]
    },
    {
     "data": {
      "text/plain": [
       "a    0\n",
       "c    2\n",
       "d    1\n",
       "dtype: int64"
      ]
     },
     "execution_count": 22,
     "metadata": {},
     "output_type": "execute_result"
    }
   ],
   "source": [
    "o = Series(range(3),index = ['a','d','c'])\n",
    "print(o)\n",
    "o.sort_index()"
   ]
  },
  {
   "cell_type": "code",
   "execution_count": 23,
   "metadata": {},
   "outputs": [
    {
     "name": "stdout",
     "output_type": "stream",
     "text": [
      "   A  B  C\n",
      "0  1  3  0\n",
      "1  2  2  0\n",
      "2  3  1  0\n"
     ]
    },
    {
     "data": {
      "text/plain": [
       "A    3\n",
       "B    1\n",
       "Name: 2, dtype: int64"
      ]
     },
     "execution_count": 23,
     "metadata": {},
     "output_type": "execute_result"
    }
   ],
   "source": [
    "from pandas import Series,DataFrame\n",
    "import pandas as pd\n",
    "data = {\n",
    "    'A':[1,2,3],\"B\":[3,2,1],\"C\":[0,0,0]}\n",
    "frame = DataFrame(data)\n",
    "print(frame)\n",
    "del frame['C']\n",
    "frame.iloc[2]"
   ]
  },
  {
   "cell_type": "code",
   "execution_count": 24,
   "metadata": {},
   "outputs": [
    {
     "data": {
      "text/plain": [
       "1.0"
      ]
     },
     "execution_count": 24,
     "metadata": {},
     "output_type": "execute_result"
    }
   ],
   "source": [
    "from pandas import Series,DataFrame\n",
    "import pandas as pd\n",
    "def f(x,y,z):\n",
    "    return (x+y)/z\n",
    "a = 2\n",
    "b = 3\n",
    "c = 5\n",
    "\n",
    "f(1,2,z=3)"
   ]
  },
  {
   "cell_type": "code",
   "execution_count": 25,
   "metadata": {},
   "outputs": [
    {
     "data": {
      "text/plain": [
       "array([3, 9, 2], dtype=int32)"
      ]
     },
     "execution_count": 25,
     "metadata": {},
     "output_type": "execute_result"
    }
   ],
   "source": [
    "arr = np.array([3.7,9,2])\n",
    "brr = arr.astype(np.int32)\n",
    "brr"
   ]
  },
  {
   "cell_type": "code",
   "execution_count": 26,
   "metadata": {},
   "outputs": [
    {
     "data": {
      "text/plain": [
       "dtype('int32')"
      ]
     },
     "execution_count": 26,
     "metadata": {},
     "output_type": "execute_result"
    }
   ],
   "source": [
    "a = np.array([1,2,3],dtype=np.int32)\n",
    "a.dtype"
   ]
  },
  {
   "cell_type": "code",
   "execution_count": 27,
   "metadata": {},
   "outputs": [
    {
     "data": {
      "text/plain": [
       "array([[ 1.,  4.,  9.],\n",
       "       [16., 25., 36.]])"
      ]
     },
     "execution_count": 27,
     "metadata": {},
     "output_type": "execute_result"
    }
   ],
   "source": [
    "arr = np.array([[1.,2.,3.],[4.,5.,6.]])\n",
    "arr*arr"
   ]
  },
  {
   "cell_type": "code",
   "execution_count": 28,
   "metadata": {},
   "outputs": [
    {
     "data": {
      "text/plain": [
       "array([[-0.07793961, -1.31268545, -1.38371149,  0.70249954],\n",
       "       [-1.09055251,  1.19713777,  0.5641002 , -0.58322413],\n",
       "       [ 0.2758013 ,  0.02244188, -0.27538706, -0.26233543],\n",
       "       [-0.32053628,  0.16944034,  2.63222536, -0.43850096],\n",
       "       [-1.60683233,  0.29201397, -0.39314741,  2.26167295],\n",
       "       [ 1.32098054, -0.92305393,  0.59666062,  0.02269067],\n",
       "       [ 1.71341799,  0.86598709,  2.61044213, -1.50477073]])"
      ]
     },
     "execution_count": 28,
     "metadata": {},
     "output_type": "execute_result"
    }
   ],
   "source": [
    "data = np.random.randn(7,4)\n",
    "data"
   ]
  },
  {
   "cell_type": "code",
   "execution_count": 29,
   "metadata": {},
   "outputs": [
    {
     "data": {
      "text/plain": [
       "array([False,  True, False,  True])"
      ]
     },
     "execution_count": 29,
     "metadata": {},
     "output_type": "execute_result"
    }
   ],
   "source": [
    "names = np.array(['A','B','C','B'])\n",
    "names\n",
    "names == 'B'"
   ]
  },
  {
   "cell_type": "code",
   "execution_count": 30,
   "metadata": {},
   "outputs": [
    {
     "data": {
      "text/plain": [
       "array([[ 9., 16.],\n",
       "       [ 9., 16.]])"
      ]
     },
     "execution_count": 30,
     "metadata": {},
     "output_type": "execute_result"
    }
   ],
   "source": [
    "arr = np.empty((3,2))\n",
    "arr[[1,1]]"
   ]
  },
  {
   "cell_type": "code",
   "execution_count": 31,
   "metadata": {},
   "outputs": [
    {
     "data": {
      "text/plain": [
       "array([[[ 0,  1,  2,  3],\n",
       "        [ 8,  9, 10, 11]],\n",
       "\n",
       "       [[ 4,  5,  6,  7],\n",
       "        [12, 13, 14, 15]]])"
      ]
     },
     "execution_count": 31,
     "metadata": {},
     "output_type": "execute_result"
    }
   ],
   "source": [
    "arr = np.arange(16).reshape((2,2,4))\n",
    "arr.transpose((1,0,2))"
   ]
  },
  {
   "cell_type": "code",
   "execution_count": 32,
   "metadata": {},
   "outputs": [
    {
     "data": {
      "text/plain": [
       "array([[[ 0,  1,  2,  3],\n",
       "        [ 4,  5,  6,  7]],\n",
       "\n",
       "       [[ 8,  9, 10, 11],\n",
       "        [12, 13, 14, 15]]])"
      ]
     },
     "execution_count": 32,
     "metadata": {},
     "output_type": "execute_result"
    }
   ],
   "source": [
    "arr"
   ]
  },
  {
   "cell_type": "code",
   "execution_count": 33,
   "metadata": {},
   "outputs": [
    {
     "name": "stdout",
     "output_type": "stream",
     "text": [
      "[-0.96370243 -2.7113431  -2.93036509 -4.136676    1.01324771 -1.12648701\n",
      "  4.11049803]\n"
     ]
    },
    {
     "data": {
      "text/plain": [
       "(array([-0.96370243, -0.7113431 , -0.93036509, -0.136676  ,  0.01324771,\n",
       "        -0.12648701,  0.11049803]),\n",
       " array([-0., -2., -2., -4.,  1., -1.,  4.]))"
      ]
     },
     "execution_count": 33,
     "metadata": {},
     "output_type": "execute_result"
    }
   ],
   "source": [
    "arr = np.random.randn(7)*5\n",
    "print(arr)\n",
    "np.modf(arr)"
   ]
  },
  {
   "cell_type": "code",
   "execution_count": 34,
   "metadata": {},
   "outputs": [
    {
     "data": {
      "image/png": "[encoded data removed]",
      "text/plain": [
       "<Figure size 432x288 with 2 Axes>"
      ]
     },
     "metadata": {
      "needs_background": "light"
     },
     "output_type": "display_data"
    }
   ],
   "source": [
    "import matplotlib.pyplot as plt\n",
    "points = np.arange(-5,5,0.01)\n",
    "x , y = np.meshgrid(points,points)\n",
    "z = np.sqrt(x**2 + y**2)\n",
    "plt.imshow(z)\n",
    "plt.colorbar()\n",
    "plt.show()"
   ]
  },
  {
   "cell_type": "code",
   "execution_count": 35,
   "metadata": {},
   "outputs": [
    {
     "name": "stdout",
     "output_type": "stream",
     "text": [
      "[[ 0.06508154  0.21318218  0.17659455  0.34686141]\n",
      " [ 0.78914706  0.31440092 -0.3516241  -1.18431674]\n",
      " [-1.52005792 -1.01276149  1.64680508  0.8230662 ]\n",
      " [ 1.00698572  0.3307846  -1.12271223  0.89325076]]\n"
     ]
    },
    {
     "data": {
      "text/plain": [
       "array([[ 2,  2,  2,  2],\n",
       "       [ 2,  2, -2, -2],\n",
       "       [-2, -2,  2,  2],\n",
       "       [ 2,  2, -2,  2]])"
      ]
     },
     "execution_count": 35,
     "metadata": {},
     "output_type": "execute_result"
    }
   ],
   "source": [
    "arr = np.random.randn(4,4)\n",
    "print(arr)\n",
    "np.where(arr>0,2,-2)"
   ]
  },
  {
   "cell_type": "code",
   "execution_count": 36,
   "metadata": {},
   "outputs": [
    {
     "data": {
      "text/plain": [
       "-0.36249489020909564"
      ]
     },
     "execution_count": 36,
     "metadata": {},
     "output_type": "execute_result"
    }
   ],
   "source": [
    "arr = np.random.randn(5,4)\n",
    "arr.mean()"
   ]
  },
  {
   "cell_type": "code",
   "execution_count": 37,
   "metadata": {},
   "outputs": [],
   "source": [
    "arr= np.arange(10)\n",
    "np.save('some_array',arr)\n"
   ]
  },
  {
   "cell_type": "code",
   "execution_count": 38,
   "metadata": {},
   "outputs": [
    {
     "data": {
      "text/plain": [
       "0"
      ]
     },
     "execution_count": 38,
     "metadata": {},
     "output_type": "execute_result"
    }
   ],
   "source": [
    "np.random.randint(0,4)"
   ]
  },
  {
   "cell_type": "code",
   "execution_count": null,
   "metadata": {},
   "outputs": [],
   "source": []
  }
 ],
 "metadata": {
  "kernelspec": {
   "display_name": "Python 3.7.3 64-bit",
   "language": "python",
   "name": "python3"
  },
  "language_info": {
   "codemirror_mode": {
    "name": "ipython",
    "version": 3
   },
   "file_extension": ".py",
   "mimetype": "text/x-python",
   "name": "python",
   "nbconvert_exporter": "python",
   "pygments_lexer": "ipython3",
   "version": "3.7.3"
  },
  "orig_nbformat": 4,
  "vscode": {
   "interpreter": {
    "hash": "aee8b7b246df8f9039afb4144a1f6fd8d2ca17a180786b69acc140d282b71a49"
   }
  }
 },
 "nbformat": 4,
 "nbformat_minor": 2
}
