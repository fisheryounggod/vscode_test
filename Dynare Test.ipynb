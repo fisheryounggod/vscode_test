{
 "cells": [
  {
   "cell_type": "code",
   "execution_count": null,
   "id": "b0a173ba",
   "metadata": {},
   "outputs": [],
   "source": [
    "!pwd "
   ]
  },
  {
   "cell_type": "code",
   "execution_count": null,
   "id": "748de175",
   "metadata": {},
   "outputs": [],
   "source": [
    "matlabroot"
   ]
  },
  {
   "cell_type": "code",
   "execution_count": null,
   "id": "5bbb31c5",
   "metadata": {},
   "outputs": [],
   "source": [
    "addpath(\"/Applications/Dynare/5.0/matlab\")"
   ]
  },
  {
   "cell_type": "code",
   "execution_count": null,
   "id": "0a33d385",
   "metadata": {},
   "outputs": [],
   "source": [
    "cd /Users/mac/myPrograme/work_space/Matlab/Macro_Finance/Bvar_example"
   ]
  },
  {
   "cell_type": "code",
   "execution_count": null,
   "id": "8862320b",
   "metadata": {
    "scrolled": false
   },
   "outputs": [],
   "source": [
    "dynare test "
   ]
  },
  {
   "cell_type": "code",
   "execution_count": null,
   "id": "35746aa1",
   "metadata": {},
   "outputs": [],
   "source": [
    "ls "
   ]
  },
  {
   "cell_type": "code",
   "execution_count": null,
   "id": "d0913df8",
   "metadata": {},
   "outputs": [],
   "source": [
    "!cat ./Matlab/宏观金融作业1/Bvar_example/test.mod"
   ]
  },
  {
   "cell_type": "code",
   "execution_count": null,
   "id": "63c57a1c",
   "metadata": {},
   "outputs": [],
   "source": [
    "!cat ./Matlab/宏观金融作业1/Bvar_example/a0_main.m"
   ]
  },
  {
   "cell_type": "code",
   "execution_count": null,
   "id": "c506e9d1",
   "metadata": {
    "scrolled": false
   },
   "outputs": [],
   "source": [
    "!cat ./Matlab/宏观金融作业1/Bvar_example/bvar_sample.m"
   ]
  },
  {
   "cell_type": "code",
   "execution_count": null,
   "id": "ddaedca7",
   "metadata": {},
   "outputs": [],
   "source": [
    "ls +test "
   ]
  },
  {
   "cell_type": "code",
   "execution_count": null,
   "id": "185bdacc",
   "metadata": {
    "scrolled": false
   },
   "outputs": [],
   "source": [
    "!cat ./Matlab/宏观金融作业1/Bvar_example/+test/driver.m"
   ]
  },
  {
   "cell_type": "code",
   "execution_count": null,
   "id": "6d029d99",
   "metadata": {},
   "outputs": [],
   "source": []
  }
 ],
 "metadata": {
  "kernelspec": {
   "display_name": "Matlab",
   "language": "matlab",
   "name": "matlab"
  },
  "language_info": {
   "codemirror_mode": "octave",
   "file_extension": ".m",
   "help_links": [
    {
     "text": "MetaKernel Magics",
     "url": "https://metakernel.readthedocs.io/en/latest/source/README.html"
    }
   ],
   "mimetype": "text/x-octave",
   "name": "matlab",
   "version": "0.16.7"
  },
  "toc": {
   "base_numbering": 1,
   "nav_menu": {},
   "number_sections": true,
   "sideBar": true,
   "skip_h1_title": false,
   "title_cell": "Table of Contents",
   "title_sidebar": "Contents",
   "toc_cell": false,
   "toc_position": {},
   "toc_section_display": true,
   "toc_window_display": false
  },
  "varInspector": {
   "cols": {
    "lenName": 16,
    "lenType": 16,
    "lenVar": 40
   },
   "kernels_config": {
    "python": {
     "delete_cmd_postfix": "",
     "delete_cmd_prefix": "del ",
     "library": "var_list.py",
     "varRefreshCmd": "print(var_dic_list())"
    },
    "r": {
     "delete_cmd_postfix": ") ",
     "delete_cmd_prefix": "rm(",
     "library": "var_list.r",
     "varRefreshCmd": "cat(var_dic_list()) "
    }
   },
   "types_to_exclude": [
    "module",
    "function",
    "builtin_function_or_method",
    "instance",
    "_Feature"
   ],
   "window_display": false
  }
 },
 "nbformat": 4,
 "nbformat_minor": 5
}
